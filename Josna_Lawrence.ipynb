{
  "nbformat": 4,
  "nbformat_minor": 0,
  "metadata": {
    "colab": {
      "provenance": [],
      "collapsed_sections": []
    },
    "kernelspec": {
      "name": "python3",
      "display_name": "Python 3"
    },
    "language_info": {
      "name": "python"
    }
  },
  "cells": [
    {
      "cell_type": "code",
      "execution_count": 10,
      "metadata": {
        "id": "YqfKPT0ndLUm"
      },
      "outputs": [],
      "source": [
        "import pandas as pd\n",
        "import numpy as np\n",
        "import seaborn as sns\n",
        "import matplotlib.pyplot as plt"
      ]
    },
    {
      "cell_type": "markdown",
      "source": [
        "1) **Load Dataset to Python Environment**"
      ],
      "metadata": {
        "id": "jRZldh_XdkU_"
      }
    },
    {
      "cell_type": "markdown",
      "source": [
        "2) **Make 'PassengerId' as the Index Column**\n"
      ],
      "metadata": {
        "id": "pJhJEu9sr3J2"
      }
    },
    {
      "cell_type": "markdown",
      "source": [
        "3) **Check the basic details of Dataset**"
      ],
      "metadata": {
        "id": "wsdlVklvsLxD"
      }
    },
    {
      "cell_type": "markdown",
      "source": [
        "4) **Fill in all the missing values present in all the columns in the Dataset**"
      ],
      "metadata": {
        "id": "ZrOz6gTfsVFp"
      }
    },
    {
      "cell_type": "markdown",
      "source": [
        "5) **Check and handle outliers in at least 3 columns in the Dataset**"
      ],
      "metadata": {
        "id": "NPMZ-Lv6skPP"
      }
    },
    {
      "cell_type": "markdown",
      "source": [
        "6) **Do min max scaling on the feature set (*Take ‘Survived’ as target*)**"
      ],
      "metadata": {
        "id": "vTCmub7msvod"
      }
    }
  ]
}